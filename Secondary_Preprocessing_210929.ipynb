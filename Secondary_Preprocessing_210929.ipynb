{
  "nbformat": 4,
  "nbformat_minor": 0,
  "metadata": {
    "colab": {
      "name": "Secondary_Preprocessing_210929",
      "provenance": [],
      "collapsed_sections": [],
      "authorship_tag": "ABX9TyM97DnI7/Sb8dHIhOV5NN5d",
      "include_colab_link": true
    },
    "kernelspec": {
      "name": "ir",
      "display_name": "R"
    },
    "language_info": {
      "name": "R"
    },
    "accelerator": "GPU"
  },
  "cells": [
    {
      "cell_type": "markdown",
      "metadata": {
        "id": "view-in-github",
        "colab_type": "text"
      },
      "source": [
        "<a href=\"https://colab.research.google.com/github/1975JHK/Capstone_Project/blob/main/Secondary_Preprocessing_210929.ipynb\" target=\"_parent\"><img src=\"https://colab.research.google.com/assets/colab-badge.svg\" alt=\"Open In Colab\"/></a>"
      ]
    },
    {
      "cell_type": "code",
      "metadata": {
        "id": "cHSLO8M8pkjO",
        "outputId": "ba05c1e9-551e-41f7-c273-2c3f22385c39",
        "colab": {
          "base_uri": "https://localhost:8080/",
          "height": 1000
        }
      },
      "source": [
        "# Secondary Preprocessing\n",
        "## Encoding Numeric type to Categorical type\n",
        "### Conductivity\n",
        "df <- df %>% mutate(\n",
        "  Conductivity = case_when(\n",
        "    Conductivity < 0.0200 ~ 'Good',\n",
        "    Conductivity >= 0.0200 ~ 'Bad',\n",
        "    TRUE ~ 'NA'))\n",
        "\n",
        "df$Conductivity <- factor(df$Conductivity,\n",
        "                          levels = c('Good', 'Bad'),\n",
        "                          labels = c('Good', 'Bad'))\n",
        "\n",
        "### Shrinkage\n",
        "df$Shrinkage <- case_when(df$Shrinkage < -0.70 ~ 'Bad',\n",
        "                          df$Shrinkage < 0.00 ~ 'Good',\n",
        "                          TRUE ~ 'NA')\n",
        "\n",
        "df$Shrinkage <- factor(df$Shrinkage,\n",
        "                       levels = c('Good', 'Bad'),\n",
        "                       labels = c('Good', 'Bad'))\n",
        "\n",
        "\n",
        "### Encoding : Tissue.Type\n",
        "addmargins(table(df$Tissue.Type))\n",
        "df$Tissue.Type <- as.numeric(df$Tissue.Type)\n",
        "addmargins(table(df$Tissue.Type))\n",
        "table(is.na(df))\n",
        "df <- na.omit(df)            \n",
        "\n",
        "\n",
        "## Feature Selection\n",
        "df <- df[ , -c(1:4)]\n",
        "colnames(df)\n",
        "\n",
        "\n",
        "## Splitting the dataset into train and test set\n",
        "set.seed(33)\n",
        "index <- sample(1:nrow(df), nrow(df)*0.70, replace = F)\n",
        "train <- df[index, ]\n",
        "test <- df[-index, ]\n",
        "dim(train)\n",
        "dim(test)\n",
        "table(train$Conductivity)\n",
        "table(test$Conductivity)\n",
        "\n",
        "## Re-balancing Classes of dataset with SMOTE\n",
        "install.packages('ROSE')\n",
        "imbalance <- table(train$Conductivity) %>% data.frame() %>% \n",
        "  rename(Levels = Var1, Numbers = Freq)\n",
        "\n",
        "train <- ROSE::ROSE(Conductivity ~ ., data = train[ , c(1:27)])$data\n",
        "\n",
        "rebalance <- table(train$Conductivity) %>% data.frame() %>% \n",
        "  rename(Levels = Var1, Numbers = Freq)\n",
        "\n",
        "smote_effect <- rbind(imbalance, rebalance) %>% \n",
        "  mutate(Remarks = c('Not SMOTE', 'Not SMOTE',\n",
        "                     'With SMOTE', 'With SMOTE'))\n",
        "\n",
        "ggplot(data = smote_effect, aes(x = Levels, y = Numbers,\n",
        "                                fill = Levels))+\n",
        "  geom_col(width = 0.5, alpha = 0.8,show.legend = F)+\n",
        "  geom_text(aes(label = Numbers), size = 5, vjust = -0.2,\n",
        "            fontface = 'italic')+\n",
        "  ggtitle('The Effect of SMOTE', subtitle = 'with ROSE package')+\n",
        "  theme(plot.title = element_text(size = 18, face = 'bold', hjust = 0.5),\n",
        "        plot.subtitle = element_text(size = 8, face = 'italic', hjust = 0.5),\n",
        "        axis.title = element_text(size = 15, face = 'bold'),\n",
        "        axis.text = element_text(size = 13, face = 'italic'),\n",
        "        strip.text.x = element_text(size = 13, face = 'bold'))+\n",
        "  facet_wrap(~ Remarks)\n",
        "\n",
        "## Scaling the Features\n",
        "center <- apply(train[ , -c(27:28)], 2, mean)\n",
        "scale <- apply(train[ , -c(27:28)], 2, sd)\n",
        "train[ , -c(27:28)] <- scale(train[ , -c(27:28)], \n",
        "                             center = center, scale = scale)\n",
        "test[ , -c(27:28)] <- scale(test[ , -c(27:28)], \n",
        "                            center = center, scale = scale)\n",
        "head(train[ , 1:6], 5) %>% as.tibble()\n",
        "head(test[ , 1:6], 5)"
      ],
      "execution_count": 9,
      "outputs": [
        {
          "output_type": "display_data",
          "data": {
            "text/plain": [
              "\n",
              "  C   J   N   Y Sum \n",
              "  1 313   6   0 320 "
            ]
          },
          "metadata": {}
        },
        {
          "output_type": "display_data",
          "data": {
            "text/plain": [
              "\n",
              "  1   2   3 Sum \n",
              "  1 313   6 320 "
            ]
          },
          "metadata": {}
        },
        {
          "output_type": "display_data",
          "data": {
            "text/plain": [
              "\n",
              "FALSE \n",
              "10240 "
            ]
          },
          "metadata": {}
        },
        {
          "output_type": "display_data",
          "data": {
            "text/plain": [
              " [1] \"Viscosity\"    \"React.Time\"   \"React.Temp\"   \"Thickness\"    \"Resin\"       \n",
              " [6] \"Hardener\"     \"Blower\"       \"Resin.Temp\"   \"Speed\"        \"U.Temp\"      \n",
              "[11] \"L.Temp\"       \"Pressure1\"    \"Pressure2\"    \"Pressure3\"    \"Pressure4\"   \n",
              "[16] \"Pressure5\"    \"Pressure6\"    \"Pressure7\"    \"Pressure8\"    \"Pressure9\"   \n",
              "[21] \"Pressure10\"   \"Pressure11\"   \"Tissue.Type\"  \"P1\"           \"P2\"          \n",
              "[26] \"P3\"           \"Conductivity\" \"Shrinkage\"   "
            ],
            "text/latex": "\\begin{enumerate*}\n\\item 'Viscosity'\n\\item 'React.Time'\n\\item 'React.Temp'\n\\item 'Thickness'\n\\item 'Resin'\n\\item 'Hardener'\n\\item 'Blower'\n\\item 'Resin.Temp'\n\\item 'Speed'\n\\item 'U.Temp'\n\\item 'L.Temp'\n\\item 'Pressure1'\n\\item 'Pressure2'\n\\item 'Pressure3'\n\\item 'Pressure4'\n\\item 'Pressure5'\n\\item 'Pressure6'\n\\item 'Pressure7'\n\\item 'Pressure8'\n\\item 'Pressure9'\n\\item 'Pressure10'\n\\item 'Pressure11'\n\\item 'Tissue.Type'\n\\item 'P1'\n\\item 'P2'\n\\item 'P3'\n\\item 'Conductivity'\n\\item 'Shrinkage'\n\\end{enumerate*}\n",
            "text/markdown": "1. 'Viscosity'\n2. 'React.Time'\n3. 'React.Temp'\n4. 'Thickness'\n5. 'Resin'\n6. 'Hardener'\n7. 'Blower'\n8. 'Resin.Temp'\n9. 'Speed'\n10. 'U.Temp'\n11. 'L.Temp'\n12. 'Pressure1'\n13. 'Pressure2'\n14. 'Pressure3'\n15. 'Pressure4'\n16. 'Pressure5'\n17. 'Pressure6'\n18. 'Pressure7'\n19. 'Pressure8'\n20. 'Pressure9'\n21. 'Pressure10'\n22. 'Pressure11'\n23. 'Tissue.Type'\n24. 'P1'\n25. 'P2'\n26. 'P3'\n27. 'Conductivity'\n28. 'Shrinkage'\n\n\n",
            "text/html": [
              "<style>\n",
              ".list-inline {list-style: none; margin:0; padding: 0}\n",
              ".list-inline>li {display: inline-block}\n",
              ".list-inline>li:not(:last-child)::after {content: \"\\00b7\"; padding: 0 .5ex}\n",
              "</style>\n",
              "<ol class=list-inline><li>'Viscosity'</li><li>'React.Time'</li><li>'React.Temp'</li><li>'Thickness'</li><li>'Resin'</li><li>'Hardener'</li><li>'Blower'</li><li>'Resin.Temp'</li><li>'Speed'</li><li>'U.Temp'</li><li>'L.Temp'</li><li>'Pressure1'</li><li>'Pressure2'</li><li>'Pressure3'</li><li>'Pressure4'</li><li>'Pressure5'</li><li>'Pressure6'</li><li>'Pressure7'</li><li>'Pressure8'</li><li>'Pressure9'</li><li>'Pressure10'</li><li>'Pressure11'</li><li>'Tissue.Type'</li><li>'P1'</li><li>'P2'</li><li>'P3'</li><li>'Conductivity'</li><li>'Shrinkage'</li></ol>\n"
            ]
          },
          "metadata": {}
        },
        {
          "output_type": "display_data",
          "data": {
            "text/plain": [
              "[1] 224  28"
            ],
            "text/latex": "\\begin{enumerate*}\n\\item 224\n\\item 28\n\\end{enumerate*}\n",
            "text/markdown": "1. 224\n2. 28\n\n\n",
            "text/html": [
              "<style>\n",
              ".list-inline {list-style: none; margin:0; padding: 0}\n",
              ".list-inline>li {display: inline-block}\n",
              ".list-inline>li:not(:last-child)::after {content: \"\\00b7\"; padding: 0 .5ex}\n",
              "</style>\n",
              "<ol class=list-inline><li>224</li><li>28</li></ol>\n"
            ]
          },
          "metadata": {}
        },
        {
          "output_type": "display_data",
          "data": {
            "text/plain": [
              "[1] 96 28"
            ],
            "text/latex": "\\begin{enumerate*}\n\\item 96\n\\item 28\n\\end{enumerate*}\n",
            "text/markdown": "1. 96\n2. 28\n\n\n",
            "text/html": [
              "<style>\n",
              ".list-inline {list-style: none; margin:0; padding: 0}\n",
              ".list-inline>li {display: inline-block}\n",
              ".list-inline>li:not(:last-child)::after {content: \"\\00b7\"; padding: 0 .5ex}\n",
              "</style>\n",
              "<ol class=list-inline><li>96</li><li>28</li></ol>\n"
            ]
          },
          "metadata": {}
        },
        {
          "output_type": "display_data",
          "data": {
            "text/plain": [
              "\n",
              "Good  Bad \n",
              " 220    4 "
            ]
          },
          "metadata": {}
        },
        {
          "output_type": "display_data",
          "data": {
            "text/plain": [
              "\n",
              "Good  Bad \n",
              "  92    4 "
            ]
          },
          "metadata": {}
        },
        {
          "output_type": "stream",
          "name": "stderr",
          "text": [
            "Installing package into ‘/usr/local/lib/R/site-library’\n",
            "(as ‘lib’ is unspecified)\n",
            "\n"
          ]
        },
        {
          "output_type": "display_data",
          "data": {
            "text/plain": [
              "  Viscosity   React.Time  React.Temp Thickness  Resin       Hardener  \n",
              "1 -0.36514110 -1.10251998  1.9214410 -1.4864619 -2.37985763  0.6078747\n",
              "2  0.50938862  0.25920753  0.7176024  0.2550506  0.01696455 -0.8530348\n",
              "3 -0.04448659 -0.19325550 -1.4338990  0.5371267  1.62248103 -0.7115754\n",
              "4 -0.23002944 -1.96146945 -0.6916707 -0.6795627 -0.10120969  0.9378488\n",
              "5 -2.05621293 -0.04548548 -0.5210856 -0.5046297 -2.01490659 -0.1102765"
            ],
            "text/latex": "A tibble: 5 × 6\n\\begin{tabular}{llllll}\n Viscosity & React.Time & React.Temp & Thickness & Resin & Hardener\\\\\n <dbl> & <dbl> & <dbl> & <dbl> & <dbl> & <dbl>\\\\\n\\hline\n\t -0.36514110 & -1.10251998 &  1.9214410 & -1.4864619 & -2.37985763 &  0.6078747\\\\\n\t  0.50938862 &  0.25920753 &  0.7176024 &  0.2550506 &  0.01696455 & -0.8530348\\\\\n\t -0.04448659 & -0.19325550 & -1.4338990 &  0.5371267 &  1.62248103 & -0.7115754\\\\\n\t -0.23002944 & -1.96146945 & -0.6916707 & -0.6795627 & -0.10120969 &  0.9378488\\\\\n\t -2.05621293 & -0.04548548 & -0.5210856 & -0.5046297 & -2.01490659 & -0.1102765\\\\\n\\end{tabular}\n",
            "text/markdown": "\nA tibble: 5 × 6\n\n| Viscosity &lt;dbl&gt; | React.Time &lt;dbl&gt; | React.Temp &lt;dbl&gt; | Thickness &lt;dbl&gt; | Resin &lt;dbl&gt; | Hardener &lt;dbl&gt; |\n|---|---|---|---|---|---|\n| -0.36514110 | -1.10251998 |  1.9214410 | -1.4864619 | -2.37985763 |  0.6078747 |\n|  0.50938862 |  0.25920753 |  0.7176024 |  0.2550506 |  0.01696455 | -0.8530348 |\n| -0.04448659 | -0.19325550 | -1.4338990 |  0.5371267 |  1.62248103 | -0.7115754 |\n| -0.23002944 | -1.96146945 | -0.6916707 | -0.6795627 | -0.10120969 |  0.9378488 |\n| -2.05621293 | -0.04548548 | -0.5210856 | -0.5046297 | -2.01490659 | -0.1102765 |\n\n",
            "text/html": [
              "<table class=\"dataframe\">\n",
              "<caption>A tibble: 5 × 6</caption>\n",
              "<thead>\n",
              "\t<tr><th scope=col>Viscosity</th><th scope=col>React.Time</th><th scope=col>React.Temp</th><th scope=col>Thickness</th><th scope=col>Resin</th><th scope=col>Hardener</th></tr>\n",
              "\t<tr><th scope=col>&lt;dbl&gt;</th><th scope=col>&lt;dbl&gt;</th><th scope=col>&lt;dbl&gt;</th><th scope=col>&lt;dbl&gt;</th><th scope=col>&lt;dbl&gt;</th><th scope=col>&lt;dbl&gt;</th></tr>\n",
              "</thead>\n",
              "<tbody>\n",
              "\t<tr><td>-0.36514110</td><td>-1.10251998</td><td> 1.9214410</td><td>-1.4864619</td><td>-2.37985763</td><td> 0.6078747</td></tr>\n",
              "\t<tr><td> 0.50938862</td><td> 0.25920753</td><td> 0.7176024</td><td> 0.2550506</td><td> 0.01696455</td><td>-0.8530348</td></tr>\n",
              "\t<tr><td>-0.04448659</td><td>-0.19325550</td><td>-1.4338990</td><td> 0.5371267</td><td> 1.62248103</td><td>-0.7115754</td></tr>\n",
              "\t<tr><td>-0.23002944</td><td>-1.96146945</td><td>-0.6916707</td><td>-0.6795627</td><td>-0.10120969</td><td> 0.9378488</td></tr>\n",
              "\t<tr><td>-2.05621293</td><td>-0.04548548</td><td>-0.5210856</td><td>-0.5046297</td><td>-2.01490659</td><td>-0.1102765</td></tr>\n",
              "</tbody>\n",
              "</table>\n"
            ]
          },
          "metadata": {}
        },
        {
          "output_type": "display_data",
          "data": {
            "text/plain": [
              "  Viscosity   React.Time React.Temp Thickness  Resin       Hardener  \n",
              "1  0.71852849 -0.6020433  0.7227688 -1.2395239 -1.47054187 -0.4644150\n",
              "2  0.50835140  1.5000675 -1.1358139  0.7878323  0.04675925 -0.0855857\n",
              "3 -1.10839545 -0.1515910 -0.6578926  0.1120469  0.04675925  0.7983493\n",
              "4 -0.25151962 -0.9023448  1.5458554 -1.9153092 -1.47054187  0.4195200\n",
              "5 -0.07367746  0.7493136 -1.0561603 -0.9016312 -0.96477483  0.6720729"
            ],
            "text/latex": "A tibble: 5 × 6\n\\begin{tabular}{llllll}\n Viscosity & React.Time & React.Temp & Thickness & Resin & Hardener\\\\\n <dbl> & <dbl> & <dbl> & <dbl> & <dbl> & <dbl>\\\\\n\\hline\n\t  0.71852849 & -0.6020433 &  0.7227688 & -1.2395239 & -1.47054187 & -0.4644150\\\\\n\t  0.50835140 &  1.5000675 & -1.1358139 &  0.7878323 &  0.04675925 & -0.0855857\\\\\n\t -1.10839545 & -0.1515910 & -0.6578926 &  0.1120469 &  0.04675925 &  0.7983493\\\\\n\t -0.25151962 & -0.9023448 &  1.5458554 & -1.9153092 & -1.47054187 &  0.4195200\\\\\n\t -0.07367746 &  0.7493136 & -1.0561603 & -0.9016312 & -0.96477483 &  0.6720729\\\\\n\\end{tabular}\n",
            "text/markdown": "\nA tibble: 5 × 6\n\n| Viscosity &lt;dbl&gt; | React.Time &lt;dbl&gt; | React.Temp &lt;dbl&gt; | Thickness &lt;dbl&gt; | Resin &lt;dbl&gt; | Hardener &lt;dbl&gt; |\n|---|---|---|---|---|---|\n|  0.71852849 | -0.6020433 |  0.7227688 | -1.2395239 | -1.47054187 | -0.4644150 |\n|  0.50835140 |  1.5000675 | -1.1358139 |  0.7878323 |  0.04675925 | -0.0855857 |\n| -1.10839545 | -0.1515910 | -0.6578926 |  0.1120469 |  0.04675925 |  0.7983493 |\n| -0.25151962 | -0.9023448 |  1.5458554 | -1.9153092 | -1.47054187 |  0.4195200 |\n| -0.07367746 |  0.7493136 | -1.0561603 | -0.9016312 | -0.96477483 |  0.6720729 |\n\n",
            "text/html": [
              "<table class=\"dataframe\">\n",
              "<caption>A tibble: 5 × 6</caption>\n",
              "<thead>\n",
              "\t<tr><th scope=col>Viscosity</th><th scope=col>React.Time</th><th scope=col>React.Temp</th><th scope=col>Thickness</th><th scope=col>Resin</th><th scope=col>Hardener</th></tr>\n",
              "\t<tr><th scope=col>&lt;dbl&gt;</th><th scope=col>&lt;dbl&gt;</th><th scope=col>&lt;dbl&gt;</th><th scope=col>&lt;dbl&gt;</th><th scope=col>&lt;dbl&gt;</th><th scope=col>&lt;dbl&gt;</th></tr>\n",
              "</thead>\n",
              "<tbody>\n",
              "\t<tr><td> 0.71852849</td><td>-0.6020433</td><td> 0.7227688</td><td>-1.2395239</td><td>-1.47054187</td><td>-0.4644150</td></tr>\n",
              "\t<tr><td> 0.50835140</td><td> 1.5000675</td><td>-1.1358139</td><td> 0.7878323</td><td> 0.04675925</td><td>-0.0855857</td></tr>\n",
              "\t<tr><td>-1.10839545</td><td>-0.1515910</td><td>-0.6578926</td><td> 0.1120469</td><td> 0.04675925</td><td> 0.7983493</td></tr>\n",
              "\t<tr><td>-0.25151962</td><td>-0.9023448</td><td> 1.5458554</td><td>-1.9153092</td><td>-1.47054187</td><td> 0.4195200</td></tr>\n",
              "\t<tr><td>-0.07367746</td><td> 0.7493136</td><td>-1.0561603</td><td>-0.9016312</td><td>-0.96477483</td><td> 0.6720729</td></tr>\n",
              "</tbody>\n",
              "</table>\n"
            ]
          },
          "metadata": {}
        },
        {
          "output_type": "display_data",
          "data": {
            "image/png": "[encoded data removed]",
            "text/plain": [
              "plot without title"
            ]
          },
          "metadata": {
            "image/png": {
              "width": 420,
              "height": 420
            }
          }
        }
      ]
    }
  ]
}